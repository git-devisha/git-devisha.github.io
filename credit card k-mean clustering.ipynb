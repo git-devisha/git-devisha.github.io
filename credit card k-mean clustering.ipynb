{
 "cells": [
  {
   "cell_type": "code",
   "execution_count": 1,
   "id": "c57ab4e6-9132-409a-a857-38d50aaa87c2",
   "metadata": {},
   "outputs": [
    {
     "name": "stdout",
     "output_type": "stream",
     "text": [
      "Size of drivers test dataframe is : (660, 7)\n"
     ]
    },
    {
     "data": {
      "text/html": [
       "<div>\n",
       "<style scoped>\n",
       "    .dataframe tbody tr th:only-of-type {\n",
       "        vertical-align: middle;\n",
       "    }\n",
       "\n",
       "    .dataframe tbody tr th {\n",
       "        vertical-align: top;\n",
       "    }\n",
       "\n",
       "    .dataframe thead th {\n",
       "        text-align: right;\n",
       "    }\n",
       "</style>\n",
       "<table border=\"1\" class=\"dataframe\">\n",
       "  <thead>\n",
       "    <tr style=\"text-align: right;\">\n",
       "      <th></th>\n",
       "      <th>Sl_No</th>\n",
       "      <th>Customer Key</th>\n",
       "      <th>Avg_Credit_Limit</th>\n",
       "      <th>Total_Credit_Cards</th>\n",
       "      <th>Total_visits_bank</th>\n",
       "      <th>Total_visits_online</th>\n",
       "      <th>Total_calls_made</th>\n",
       "    </tr>\n",
       "  </thead>\n",
       "  <tbody>\n",
       "    <tr>\n",
       "      <th>0</th>\n",
       "      <td>1</td>\n",
       "      <td>87073</td>\n",
       "      <td>100000</td>\n",
       "      <td>2</td>\n",
       "      <td>1</td>\n",
       "      <td>1</td>\n",
       "      <td>0</td>\n",
       "    </tr>\n",
       "    <tr>\n",
       "      <th>1</th>\n",
       "      <td>2</td>\n",
       "      <td>38414</td>\n",
       "      <td>50000</td>\n",
       "      <td>3</td>\n",
       "      <td>0</td>\n",
       "      <td>10</td>\n",
       "      <td>9</td>\n",
       "    </tr>\n",
       "    <tr>\n",
       "      <th>2</th>\n",
       "      <td>3</td>\n",
       "      <td>17341</td>\n",
       "      <td>50000</td>\n",
       "      <td>7</td>\n",
       "      <td>1</td>\n",
       "      <td>3</td>\n",
       "      <td>4</td>\n",
       "    </tr>\n",
       "    <tr>\n",
       "      <th>3</th>\n",
       "      <td>4</td>\n",
       "      <td>40496</td>\n",
       "      <td>30000</td>\n",
       "      <td>5</td>\n",
       "      <td>1</td>\n",
       "      <td>1</td>\n",
       "      <td>4</td>\n",
       "    </tr>\n",
       "    <tr>\n",
       "      <th>4</th>\n",
       "      <td>5</td>\n",
       "      <td>47437</td>\n",
       "      <td>100000</td>\n",
       "      <td>6</td>\n",
       "      <td>0</td>\n",
       "      <td>12</td>\n",
       "      <td>3</td>\n",
       "    </tr>\n",
       "  </tbody>\n",
       "</table>\n",
       "</div>"
      ],
      "text/plain": [
       "   Sl_No  Customer Key  Avg_Credit_Limit  Total_Credit_Cards  \\\n",
       "0      1         87073            100000                   2   \n",
       "1      2         38414             50000                   3   \n",
       "2      3         17341             50000                   7   \n",
       "3      4         40496             30000                   5   \n",
       "4      5         47437            100000                   6   \n",
       "\n",
       "   Total_visits_bank  Total_visits_online  Total_calls_made  \n",
       "0                  1                    1                 0  \n",
       "1                  0                   10                 9  \n",
       "2                  1                    3                 4  \n",
       "3                  1                    1                 4  \n",
       "4                  0                   12                 3  "
      ]
     },
     "execution_count": 1,
     "metadata": {},
     "output_type": "execute_result"
    }
   ],
   "source": [
    "import warnings\n",
    "import pandas as pd\n",
    "import numpy as np\n",
    "\n",
    "# ignore all warnings\n",
    "warnings. filterwarnings(\"ignore\")\n",
    "\n",
    "# read data into dataframe variable df\n",
    "df = pd.read_csv(\"D:\\Devisha Bhargava\\data set\\Credit Card Customer Data.csv\")\n",
    "print('Size of drivers test dataframe is :', df.shape)\n",
    "\n",
    "# display first few rows of data\n",
    "df.head()"
   ]
  },
  {
   "cell_type": "code",
   "execution_count": 2,
   "id": "a23ef9b8-2f3c-403f-a77f-1d6257570bcb",
   "metadata": {},
   "outputs": [
    {
     "data": {
      "text/plain": [
       "Sl_No                  int64\n",
       "Customer Key           int64\n",
       "Avg_Credit_Limit       int64\n",
       "Total_Credit_Cards     int64\n",
       "Total_visits_bank      int64\n",
       "Total_visits_online    int64\n",
       "Total_calls_made       int64\n",
       "dtype: object"
      ]
     },
     "execution_count": 2,
     "metadata": {},
     "output_type": "execute_result"
    }
   ],
   "source": [
    "df.dtypes"
   ]
  },
  {
   "cell_type": "code",
   "execution_count": 4,
   "id": "fbf7ad03-bd1f-41bf-b01d-35d853b81954",
   "metadata": {},
   "outputs": [],
   "source": [
    "# select columns to cluster\n",
    "\n",
    "cluster_columns = ['Customer Key', 'Avg_Credit_Limit', 'Total_Credit_Cards', 'Total_visits_bank', 'Total_visits_online', 'Total_calls_made']\n",
    "\n",
    "df = df[cluster_columns]"
   ]
  },
  {
   "cell_type": "code",
   "execution_count": 5,
   "id": "3b0fd049-21f2-4ff2-8e62-6c53a2cc2aeb",
   "metadata": {},
   "outputs": [],
   "source": [
    "from sklearn.preprocessing import StandardScaler\n",
    "\n",
    "# define numerical and categorical columns\n",
    "numerical_columns = ['Avg_Credit_Limit', 'Total_Credit_Cards', 'Total_visits_bank', 'Total_visits_online', 'Total_calls_made']\n",
    "categorical_columns = ['Customer Key']\n",
    "\n",
    "scaler = StandardScaler()\n",
    "\n",
    "# create a copy of our data to be scaled\n",
    "df_scale = df.copy()\n",
    "\n",
    "# standard scale numerical features\n",
    "for c in numerical_columns:\n",
    "    df_scale[c] = scaler.fit_transform(df[[c]])"
   ]
  },
  {
   "cell_type": "code",
   "execution_count": 6,
   "id": "c28dc97b-87f3-4828-b3f9-fc3a94a0773e",
   "metadata": {},
   "outputs": [
    {
     "data": {
      "text/html": [
       "<div>\n",
       "<style scoped>\n",
       "    .dataframe tbody tr th:only-of-type {\n",
       "        vertical-align: middle;\n",
       "    }\n",
       "\n",
       "    .dataframe tbody tr th {\n",
       "        vertical-align: top;\n",
       "    }\n",
       "\n",
       "    .dataframe thead th {\n",
       "        text-align: right;\n",
       "    }\n",
       "</style>\n",
       "<table border=\"1\" class=\"dataframe\">\n",
       "  <thead>\n",
       "    <tr style=\"text-align: right;\">\n",
       "      <th></th>\n",
       "      <th>Customer Key</th>\n",
       "      <th>Avg_Credit_Limit</th>\n",
       "      <th>Total_Credit_Cards</th>\n",
       "      <th>Total_visits_bank</th>\n",
       "      <th>Total_visits_online</th>\n",
       "      <th>Total_calls_made</th>\n",
       "    </tr>\n",
       "  </thead>\n",
       "  <tbody>\n",
       "    <tr>\n",
       "      <th>0</th>\n",
       "      <td>87073</td>\n",
       "      <td>1.740187</td>\n",
       "      <td>-1.249225</td>\n",
       "      <td>-0.860451</td>\n",
       "      <td>-0.547490</td>\n",
       "      <td>-1.251537</td>\n",
       "    </tr>\n",
       "    <tr>\n",
       "      <th>1</th>\n",
       "      <td>38414</td>\n",
       "      <td>0.410293</td>\n",
       "      <td>-0.787585</td>\n",
       "      <td>-1.473731</td>\n",
       "      <td>2.520519</td>\n",
       "      <td>1.891859</td>\n",
       "    </tr>\n",
       "    <tr>\n",
       "      <th>2</th>\n",
       "      <td>17341</td>\n",
       "      <td>0.410293</td>\n",
       "      <td>1.058973</td>\n",
       "      <td>-0.860451</td>\n",
       "      <td>0.134290</td>\n",
       "      <td>0.145528</td>\n",
       "    </tr>\n",
       "    <tr>\n",
       "      <th>3</th>\n",
       "      <td>40496</td>\n",
       "      <td>-0.121665</td>\n",
       "      <td>0.135694</td>\n",
       "      <td>-0.860451</td>\n",
       "      <td>-0.547490</td>\n",
       "      <td>0.145528</td>\n",
       "    </tr>\n",
       "    <tr>\n",
       "      <th>4</th>\n",
       "      <td>47437</td>\n",
       "      <td>1.740187</td>\n",
       "      <td>0.597334</td>\n",
       "      <td>-1.473731</td>\n",
       "      <td>3.202298</td>\n",
       "      <td>-0.203739</td>\n",
       "    </tr>\n",
       "  </tbody>\n",
       "</table>\n",
       "</div>"
      ],
      "text/plain": [
       "   Customer Key  Avg_Credit_Limit  Total_Credit_Cards  Total_visits_bank  \\\n",
       "0         87073          1.740187           -1.249225          -0.860451   \n",
       "1         38414          0.410293           -0.787585          -1.473731   \n",
       "2         17341          0.410293            1.058973          -0.860451   \n",
       "3         40496         -0.121665            0.135694          -0.860451   \n",
       "4         47437          1.740187            0.597334          -1.473731   \n",
       "\n",
       "   Total_visits_online  Total_calls_made  \n",
       "0            -0.547490         -1.251537  \n",
       "1             2.520519          1.891859  \n",
       "2             0.134290          0.145528  \n",
       "3            -0.547490          0.145528  \n",
       "4             3.202298         -0.203739  "
      ]
     },
     "execution_count": 6,
     "metadata": {},
     "output_type": "execute_result"
    }
   ],
   "source": [
    "df_scale.head()"
   ]
  },
  {
   "cell_type": "code",
   "execution_count": 8,
   "id": "b34822cf-0f56-4a96-98a5-0e1d675bbbbf",
   "metadata": {},
   "outputs": [
    {
     "data": {
      "text/plain": [
       "(625, 6)"
      ]
     },
     "execution_count": 8,
     "metadata": {},
     "output_type": "execute_result"
    }
   ],
   "source": [
    "df_out = df_scale[(df_scale['Avg_Credit_Limit'].abs()<=3) & (df_scale['Total_Credit_Cards'].abs()<=3) & (df_scale['Total_visits_bank'].abs()<=3) & (df_scale['Total_visits_online'].abs()<=3) & (df_scale['Total_calls_made'].abs()<=3)]\n",
    "df_out.shape\n",
    "df_out.shape"
   ]
  },
  {
   "cell_type": "code",
   "execution_count": 9,
   "id": "ca1266c2-5d4b-4bd2-aad7-3692484627e6",
   "metadata": {},
   "outputs": [
    {
     "name": "stdout",
     "output_type": "stream",
     "text": [
      "Requirement already satisfied: KPrototypes in c:\\users\\devisha\\anaconda3\\lib\\site-packages (0.1.1)\n",
      "Requirement already satisfied: numpy in c:\\users\\devisha\\anaconda3\\lib\\site-packages (from KPrototypes) (1.26.4)\n",
      "Requirement already satisfied: kmodes in c:\\users\\devisha\\anaconda3\\lib\\site-packages (0.12.2)\n",
      "Requirement already satisfied: numpy>=1.10.4 in c:\\users\\devisha\\anaconda3\\lib\\site-packages (from kmodes) (1.26.4)\n",
      "Requirement already satisfied: scikit-learn>=0.22.0 in c:\\users\\devisha\\anaconda3\\lib\\site-packages (from kmodes) (1.2.2)\n",
      "Requirement already satisfied: scipy>=0.13.3 in c:\\users\\devisha\\anaconda3\\lib\\site-packages (from kmodes) (1.11.4)\n",
      "Requirement already satisfied: joblib>=0.11 in c:\\users\\devisha\\anaconda3\\lib\\site-packages (from kmodes) (1.2.0)\n",
      "Requirement already satisfied: threadpoolctl>=2.0.0 in c:\\users\\devisha\\anaconda3\\lib\\site-packages (from scikit-learn>=0.22.0->kmodes) (2.2.0)\n"
     ]
    }
   ],
   "source": [
    "!pip install KPrototypes \n",
    "!pip install kmodes"
   ]
  },
  {
   "cell_type": "code",
   "execution_count": 10,
   "id": "d94c18b0-b3e4-44a8-b926-882a0545b826",
   "metadata": {},
   "outputs": [
    {
     "data": {
      "text/plain": [
       "[0]"
      ]
     },
     "execution_count": 10,
     "metadata": {},
     "output_type": "execute_result"
    }
   ],
   "source": [
    "from kmodes.kprototypes import KPrototypes\n",
    "\n",
    "categorical_indexes = []\n",
    "\n",
    "for c in categorical_columns:\n",
    "    categorical_indexes.append(df.columns.get_loc(c))\n",
    "\n",
    "categorical_indexes"
   ]
  },
  {
   "cell_type": "code",
   "execution_count": 11,
   "id": "c7f12826-70ba-4a28-889a-ed53f6d9a3e3",
   "metadata": {},
   "outputs": [
    {
     "data": {
      "text/plain": [
       "Text(0, 0.5, 'mean distance')"
      ]
     },
     "execution_count": 11,
     "metadata": {},
     "output_type": "execute_result"
    },
    {
     "data": {
      "image/png": "[encoded data removed]",
      "text/plain": [
       "<Figure size 640x480 with 1 Axes>"
      ]
     },
     "metadata": {},
     "output_type": "display_data"
    }
   ],
   "source": [
    "import seaborn as sns\n",
    "\n",
    "num_clusters = list(range(2, 11))\n",
    "\n",
    "cost_values = []\n",
    "\n",
    "# calculate cost values for each number of clusters (2 to 10)\n",
    "for k in num_clusters:\n",
    "    kproto = KPrototypes(n_clusters=k, init='Huang', random_state=42)\n",
    "    kproto.fit_predict(df_scale, categorical= categorical_indexes)\n",
    "    cost_values.append(kproto.cost_)\n",
    "\n",
    "# plot cost against number of clusters\n",
    "ax = sns.lineplot(x=num_clusters, y=cost_values, marker=\"o\")\n",
    "ax.set_title('Elbow curve', fontsize=14)\n",
    "ax.set_xlabel('Limits', fontsize=11)\n",
    "ax.set_ylabel('Avg_Credit_Limit', fontsize=11)"
   ]
  },
  {
   "cell_type": "code",
   "execution_count": 12,
   "id": "5a94d64f-5f02-41ec-88f8-72c6e3fe98fb",
   "metadata": {},
   "outputs": [
    {
     "data": {
      "text/plain": [
       "Text(0, 0.5, 'mean distance')"
      ]
     },
     "execution_count": 12,
     "metadata": {},
     "output_type": "execute_result"
    },
    {
     "data": {
      "image/png": "[encoded data removed]",
      "text/plain": [
       "<Figure size 640x480 with 1 Axes>"
      ]
     },
     "metadata": {},
     "output_type": "display_data"
    }
   ],
   "source": [
    "from sklearn.metrics import silhouette_score\n",
    "\n",
    "silhouette_avg = []\n",
    "\n",
    "# calculate average silhouette score for each number of cluster (2 to 10)\n",
    "for k in num_clusters:\n",
    "    kproto = KPrototypes(n_clusters=k, init='Huang', random_state=42)\n",
    "    kproto.fit_predict(df_scale, categorical= categorical_indexes)\n",
    "    cluster_labels = kproto.labels_\n",
    "    silhouette_avg.append(silhouette_score(df_scale, cluster_labels))\n",
    "\n",
    "# plot average silhouette score against number of clusters\n",
    "ax = sns.lineplot(x=num_clusters, y=silhouette_avg, marker=\"o\")\n",
    "ax.set_title('Average Silhouette', fontsize=14)\n",
    "ax.set_xlabel('mean speed', fontsize=11)\n",
    "ax.set_ylabel('mean distance', fontsize=11)"
   ]
  },
  {
   "cell_type": "code",
   "execution_count": 13,
   "id": "1298d61e-cf42-4a7f-abc0-7fea7672659a",
   "metadata": {},
   "outputs": [
    {
     "data": {
      "text/html": [
       "<div>\n",
       "<style scoped>\n",
       "    .dataframe tbody tr th:only-of-type {\n",
       "        vertical-align: middle;\n",
       "    }\n",
       "\n",
       "    .dataframe tbody tr th {\n",
       "        vertical-align: top;\n",
       "    }\n",
       "\n",
       "    .dataframe thead th {\n",
       "        text-align: right;\n",
       "    }\n",
       "</style>\n",
       "<table border=\"1\" class=\"dataframe\">\n",
       "  <thead>\n",
       "    <tr style=\"text-align: right;\">\n",
       "      <th></th>\n",
       "      <th>Customer Key</th>\n",
       "      <th>Avg_Credit_Limit</th>\n",
       "      <th>Total_Credit_Cards</th>\n",
       "      <th>Total_visits_bank</th>\n",
       "      <th>Total_visits_online</th>\n",
       "      <th>Total_calls_made</th>\n",
       "      <th>cluster</th>\n",
       "    </tr>\n",
       "  </thead>\n",
       "  <tbody>\n",
       "    <tr>\n",
       "      <th>0</th>\n",
       "      <td>87073</td>\n",
       "      <td>100000</td>\n",
       "      <td>2</td>\n",
       "      <td>1</td>\n",
       "      <td>1</td>\n",
       "      <td>0</td>\n",
       "      <td>3</td>\n",
       "    </tr>\n",
       "    <tr>\n",
       "      <th>1</th>\n",
       "      <td>38414</td>\n",
       "      <td>50000</td>\n",
       "      <td>3</td>\n",
       "      <td>0</td>\n",
       "      <td>10</td>\n",
       "      <td>9</td>\n",
       "      <td>0</td>\n",
       "    </tr>\n",
       "    <tr>\n",
       "      <th>2</th>\n",
       "      <td>17341</td>\n",
       "      <td>50000</td>\n",
       "      <td>7</td>\n",
       "      <td>1</td>\n",
       "      <td>3</td>\n",
       "      <td>4</td>\n",
       "      <td>3</td>\n",
       "    </tr>\n",
       "    <tr>\n",
       "      <th>3</th>\n",
       "      <td>40496</td>\n",
       "      <td>30000</td>\n",
       "      <td>5</td>\n",
       "      <td>1</td>\n",
       "      <td>1</td>\n",
       "      <td>4</td>\n",
       "      <td>3</td>\n",
       "    </tr>\n",
       "    <tr>\n",
       "      <th>4</th>\n",
       "      <td>47437</td>\n",
       "      <td>100000</td>\n",
       "      <td>6</td>\n",
       "      <td>0</td>\n",
       "      <td>12</td>\n",
       "      <td>3</td>\n",
       "      <td>4</td>\n",
       "    </tr>\n",
       "  </tbody>\n",
       "</table>\n",
       "</div>"
      ],
      "text/plain": [
       "   Customer Key  Avg_Credit_Limit  Total_Credit_Cards  Total_visits_bank  \\\n",
       "0         87073            100000                   2                  1   \n",
       "1         38414             50000                   3                  0   \n",
       "2         17341             50000                   7                  1   \n",
       "3         40496             30000                   5                  1   \n",
       "4         47437            100000                   6                  0   \n",
       "\n",
       "   Total_visits_online  Total_calls_made  cluster  \n",
       "0                    1                 0        3  \n",
       "1                   10                 9        0  \n",
       "2                    3                 4        3  \n",
       "3                    1                 4        3  \n",
       "4                   12                 3        4  "
      ]
     },
     "execution_count": 13,
     "metadata": {},
     "output_type": "execute_result"
    }
   ],
   "source": [
    "# we set the number of clusters to 5\n",
    "kproto = KPrototypes(n_clusters= 5, init='Huang', n_init = 25, random_state=42)\n",
    "kproto.fit_predict(df_scale, categorical= categorical_indexes)\n",
    "\n",
    "# store cluster labels\n",
    "cluster_labels = kproto.labels_\n",
    "\n",
    "# add clusters to dataframe\n",
    "df[\"cluster\"] = cluster_labels\n",
    "\n",
    "# check if clusters have been added to the dataframe\n",
    "df.head()"
   ]
  },
  {
   "cell_type": "code",
   "execution_count": 14,
   "id": "6cac30df-d5e6-48e9-8015-a33ce57e9920",
   "metadata": {},
   "outputs": [],
   "source": [
    "from sklearn.decomposition import PCA\n",
    "\n",
    "pca = PCA(n_components=2)\n",
    "pca_df = pca.fit_transform(df_scale)"
   ]
  },
  {
   "cell_type": "code",
   "execution_count": 49,
   "id": "6768658a-d3ae-486a-8ad0-8d4a24dbc85b",
   "metadata": {},
   "outputs": [
    {
     "data": {
      "application/vnd.plotly.v1+json": {
       "config": {
        "plotlyServerURL": "https://plot.ly"
       },
       "data": [
        {
         "hoverinfo": "text+x+y+z",
         "marker": {
          "color": [
           0,
           1,
           2,
           1,
           1,
           0,
           2,
           3,
           1,
           0,
           1,
           3,
           1,
           3,
           0,
           2,
           1,
           0,
           0,
           3,
           2,
           1,
           3,
           0,
           1,
           0,
           1,
           3,
           1,
           0,
           3,
           2,
           3,
           1,
           3,
           2,
           1,
           2,
           1,
           0,
           2,
           1,
           3,
           1,
           0,
           0,
           0,
           3,
           1,
           3,
           1,
           2,
           1,
           0,
           3,
           1,
           1,
           3,
           0,
           0,
           1,
           3,
           0,
           1,
           2,
           2,
           1,
           3,
           2,
           0,
           0,
           0,
           1,
           2,
           0,
           2,
           1,
           1,
           0,
           1,
           1,
           3,
           0,
           0,
           3,
           3,
           1,
           0,
           1,
           1,
           0,
           0,
           3,
           1,
           0,
           1,
           1,
           0,
           3,
           0
          ],
          "colorbar": {
           "title": {
            "text": "Cluster"
           }
          },
          "colorscale": [
           [
            0,
            "rgb(158,1,66)"
           ],
           [
            0.1,
            "rgb(213,62,79)"
           ],
           [
            0.2,
            "rgb(244,109,67)"
           ],
           [
            0.3,
            "rgb(253,174,97)"
           ],
           [
            0.4,
            "rgb(254,224,139)"
           ],
           [
            0.5,
            "rgb(255,255,191)"
           ],
           [
            0.6,
            "rgb(230,245,152)"
           ],
           [
            0.7,
            "rgb(171,221,164)"
           ],
           [
            0.8,
            "rgb(102,194,165)"
           ],
           [
            0.9,
            "rgb(50,136,189)"
           ],
           [
            1,
            "rgb(94,79,162)"
           ]
          ],
          "size": 8
         },
         "mode": "markers",
         "text": [
          "A",
          "B",
          "C",
          "B",
          "B",
          "A",
          "C",
          "D",
          "B",
          "A",
          "B",
          "D",
          "B",
          "D",
          "A",
          "C",
          "B",
          "A",
          "A",
          "D",
          "C",
          "B",
          "D",
          "A",
          "B",
          "A",
          "B",
          "D",
          "B",
          "A",
          "D",
          "C",
          "D",
          "B",
          "D",
          "C",
          "B",
          "C",
          "B",
          "A",
          "C",
          "B",
          "D",
          "B",
          "A",
          "A",
          "A",
          "D",
          "B",
          "D",
          "B",
          "C",
          "B",
          "A",
          "D",
          "B",
          "B",
          "D",
          "A",
          "A",
          "B",
          "D",
          "A",
          "B",
          "C",
          "C",
          "B",
          "D",
          "C",
          "A",
          "A",
          "A",
          "B",
          "C",
          "A",
          "C",
          "B",
          "B",
          "A",
          "B",
          "B",
          "D",
          "A",
          "A",
          "D",
          "D",
          "B",
          "A",
          "B",
          "B",
          "A",
          "A",
          "D",
          "B",
          "A",
          "B",
          "B",
          "A",
          "D",
          "A"
         ],
         "type": "scatter3d",
         "x": [
          0.12981110820690234,
          0.8780299244473658,
          0.7029309635803944,
          0.1903357906901768,
          0.9965158298540807,
          0.8965653005614979,
          0.6780266396901833,
          0.23276151039340742,
          0.5022339132540113,
          0.8076842342466197,
          0.7359230698655118,
          0.5965916643533067,
          0.10846500849264062,
          0.6721979656051379,
          0.6026916437534646,
          0.06588351798573677,
          0.37520894603965327,
          0.6913449751651758,
          0.3831989413540938,
          0.8836367835594867,
          0.5141589575954124,
          0.921724377190899,
          0.41043217028881673,
          0.4396887383353427,
          0.5974288042216443,
          0.9092987436681801,
          0.30850734514958555,
          0.1862952606038537,
          0.9294205458539864,
          0.5980305350885778,
          0.8953465928953628,
          0.431064159894049,
          0.2913118407679718,
          0.6235838039122256,
          0.4577481506538923,
          0.6446193110943719,
          0.9006269451701396,
          0.0751535086757883,
          0.4354159944994749,
          0.3326403508092961,
          0.3781186610559367,
          0.42435068745039417,
          0.38282021132366717,
          0.8050101785774743,
          0.1489358568161796,
          0.704830424194331,
          0.20242048092071696,
          0.39305066052957816,
          0.3769867605557987,
          0.13768014996671085,
          0.6739461931481319,
          0.6809432495994348,
          0.9494882257879924,
          0.5113712023495633,
          0.8696802760763989,
          0.9118560065691331,
          0.259099213648468,
          0.9268452725492426,
          0.8282408033392402,
          0.5669127450030744,
          0.19456966374151685,
          0.3979034090292505,
          0.8521181716265602,
          0.17493292853860387,
          0.849189679631941,
          0.3665509290662612,
          0.9756264593682407,
          0.8047351405545334,
          0.22806895483917866,
          0.7941762649021877,
          0.4107748429234741,
          0.33828728973185407,
          0.8818255050010806,
          0.24799701379027228,
          0.8100685664937566,
          0.1708111298633468,
          0.9901941727457841,
          0.17697743170119884,
          0.13511714894173743,
          0.22937677575717108,
          0.3262256559255228,
          0.1440201019252597,
          0.8342245842994307,
          0.2184617198479385,
          0.7415876596633966,
          0.0002212101539709188,
          0.8484896899387138,
          0.3107693691381067,
          0.40693685139731894,
          0.1276781340702262,
          0.3616693031148206,
          0.06772289030157574,
          0.5995805479933867,
          0.7006487001630044,
          0.5733751110522716,
          0.9942359353585475,
          0.24616078496626037,
          0.4294706780127936,
          0.09367413533651903,
          0.7490888215878342
         ],
         "y": [
          0.88809859840486,
          0.060627835917198336,
          0.7049074761962371,
          0.10235133508877392,
          0.2504012537078969,
          0.7467977598378874,
          0.8233841798496292,
          0.050439768064543755,
          0.22505658794800942,
          0.04846365276735598,
          0.8054897236847519,
          0.8862221594787422,
          0.8413893962733249,
          0.899621390851491,
          0.32587544086167985,
          0.8224041140161422,
          0.9186955775355079,
          0.32677281876022823,
          0.09592514915005712,
          0.911577384911549,
          0.47316264285376686,
          0.03535087538387216,
          0.13201652209238135,
          0.1626194918362236,
          0.9097776079184425,
          0.8597662178733675,
          0.47267983512033274,
          0.4191051541526688,
          0.3365727294880615,
          0.6753366742556768,
          0.31243306134155646,
          0.9789585224506235,
          0.928809726239188,
          0.05737354373278836,
          0.8026282551198809,
          0.6864204545063469,
          0.21311292751955868,
          0.7443055843248135,
          0.1433240446716315,
          0.647019106993263,
          0.0025330393410200047,
          0.5193995728498646,
          0.5318109880851479,
          0.5427104013157447,
          0.6110071361007727,
          0.29401150247653185,
          0.10108469781494178,
          0.697998414946059,
          0.979346603264164,
          0.2995644315644067,
          0.13641855130678215,
          0.563247384468996,
          0.7549919097202313,
          0.5283888234147651,
          0.06625624387682061,
          0.04597537970976706,
          0.7107738786607437,
          0.2663361582209369,
          0.5200458653186061,
          0.06631868507070082,
          0.9498570652461266,
          0.0006130306540624852,
          0.052848455350280044,
          0.8321330245151958,
          0.9850983242585314,
          0.3869603620260702,
          0.9946200237529506,
          0.8425698971649251,
          0.8621140440646015,
          0.18319383814706214,
          0.8823432759108941,
          0.5077246703868761,
          0.7629819302371197,
          0.5610669569467021,
          0.03223936770573865,
          0.3647271954567204,
          0.4047261611206745,
          0.1562629555620132,
          0.03228659709068915,
          0.1582669952807748,
          0.5262612735333885,
          0.870126145918469,
          0.16341401391338728,
          0.33162560702600385,
          0.2602503864409461,
          0.3815858360812794,
          0.046442832211821994,
          0.05044842790288728,
          0.16461455168827077,
          0.8842427764126721,
          0.4441953948662628,
          0.3266339464573811,
          0.8401489650704816,
          0.5527189115166381,
          0.353198611845675,
          0.413241104090742,
          0.46957438953329145,
          0.8212227953777178,
          0.5459211715875455,
          0.46693878563148083
         ],
         "z": [
          0.3635812856195584,
          0.5366322703536446,
          0.10010188001210785,
          0.9921906505664488,
          0.17548477893817016,
          0.6159988729206244,
          0.940268957612602,
          0.7397189808950914,
          0.011794492545304958,
          0.6877707755810956,
          0.11005808265750094,
          0.44851754209023365,
          0.18000289965763605,
          0.9686384192750823,
          0.04156623947345928,
          0.20332055034811025,
          0.015952781090473267,
          0.10962005839462552,
          0.37410152661865403,
          0.5928354920659749,
          0.5669455448172046,
          0.12803612111429674,
          0.808624364660657,
          0.8776427941254829,
          0.995192741794337,
          0.005527297387709185,
          0.4768610363236987,
          0.0102735687527018,
          0.1687285347170403,
          0.9601840407949153,
          0.8927946982063646,
          0.44284256479582973,
          0.7046008818708414,
          0.27260040426138177,
          0.7077269662312233,
          0.8024121527223131,
          0.3842130071472474,
          0.9582900904078975,
          0.4851656618539124,
          0.9669170952365268,
          0.5594526626421552,
          0.40486180058879506,
          0.8028761738609181,
          0.41051012436722145,
          0.14041679364577975,
          0.3437007518464822,
          0.5406726505190323,
          0.189321283634997,
          0.0037141430587210866,
          0.06452564742705091,
          0.4599804067269554,
          0.1524156538625413,
          0.5632880397459422,
          0.913639844232788,
          0.243388246924645,
          0.3302065236400351,
          0.7178539484275754,
          0.1361350204497872,
          0.4431647616119926,
          0.26956872851424796,
          0.2661667200748278,
          0.18874043365882676,
          0.6268520455991109,
          0.6563539370295639,
          0.42567654166025026,
          0.8011377284492962,
          0.20806511282658613,
          0.7862756326003004,
          0.6714756288896954,
          0.4292548479144922,
          0.376670610435317,
          0.262333261786301,
          0.08976926455951684,
          0.7004119224293867,
          0.7685417547790655,
          0.9877027444982354,
          0.3151549681545557,
          0.1101821080710994,
          0.4931252239113877,
          0.4802097201671991,
          0.01628979086923832,
          0.7971040778689973,
          0.8222276906454637,
          0.7185274656734486,
          0.6405475442257167,
          0.9340842607997171,
          0.2974923747239976,
          0.48749874104709456,
          0.7464617917485187,
          0.20671644467669636,
          0.6675979557953182,
          0.5507609484213905,
          0.07306946152962535,
          0.972581685891567,
          0.15979533218726538,
          0.48800489089845056,
          0.182406302867267,
          0.2684909378794814,
          0.539357639272365,
          0.726059638935692
         ]
        }
       ],
       "layout": {
        "annotations": [
         {
          "arrowhead": 2,
          "ax": 20,
          "ay": -30,
          "showarrow": true,
          "text": "First Data Point",
          "x": 0.12981110820690234,
          "y": 0.88809859840486
         }
        ],
        "autosize": true,
        "legend": {
         "title": {
          "text": "Cluster"
         }
        },
        "scene": {
         "aspectmode": "auto",
         "aspectratio": {
          "x": 1.0023843141587463,
          "y": 1.00008270479905,
          "z": 0.9975388560221546
         },
         "camera": {
          "center": {
           "x": 0,
           "y": 0,
           "z": 0
          },
          "eye": {
           "x": 0.9700130840888053,
           "y": 0.970013084088805,
           "z": 0.9700130840888053
          },
          "projection": {
           "type": "perspective"
          },
          "up": {
           "x": 0,
           "y": 0,
           "z": 1
          }
         },
         "xaxis": {
          "title": {
           "text": "PC 1"
          },
          "type": "linear"
         },
         "yaxis": {
          "title": {
           "text": "PC 2"
          },
          "type": "linear"
         },
         "zaxis": {
          "title": {
           "text": "PC 3"
          },
          "type": "linear"
         }
        },
        "template": {
         "data": {
          "bar": [
           {
            "error_x": {
             "color": "#2a3f5f"
            },
            "error_y": {
             "color": "#2a3f5f"
            },
            "marker": {
             "line": {
              "color": "#E5ECF6",
              "width": 0.5
             },
             "pattern": {
              "fillmode": "overlay",
              "size": 10,
              "solidity": 0.2
             }
            },
            "type": "bar"
           }
          ],
          "barpolar": [
           {
            "marker": {
             "line": {
              "color": "#E5ECF6",
              "width": 0.5
             },
             "pattern": {
              "fillmode": "overlay",
              "size": 10,
              "solidity": 0.2
             }
            },
            "type": "barpolar"
           }
          ],
          "carpet": [
           {
            "aaxis": {
             "endlinecolor": "#2a3f5f",
             "gridcolor": "white",
             "linecolor": "white",
             "minorgridcolor": "white",
             "startlinecolor": "#2a3f5f"
            },
            "baxis": {
             "endlinecolor": "#2a3f5f",
             "gridcolor": "white",
             "linecolor": "white",
             "minorgridcolor": "white",
             "startlinecolor": "#2a3f5f"
            },
            "type": "carpet"
           }
          ],
          "choropleth": [
           {
            "colorbar": {
             "outlinewidth": 0,
             "ticks": ""
            },
            "type": "choropleth"
           }
          ],
          "contour": [
           {
            "colorbar": {
             "outlinewidth": 0,
             "ticks": ""
            },
            "colorscale": [
             [
              0,
              "#0d0887"
             ],
             [
              0.1111111111111111,
              "#46039f"
             ],
             [
              0.2222222222222222,
              "#7201a8"
             ],
             [
              0.3333333333333333,
              "#9c179e"
             ],
             [
              0.4444444444444444,
              "#bd3786"
             ],
             [
              0.5555555555555556,
              "#d8576b"
             ],
             [
              0.6666666666666666,
              "#ed7953"
             ],
             [
              0.7777777777777778,
              "#fb9f3a"
             ],
             [
              0.8888888888888888,
              "#fdca26"
             ],
             [
              1,
              "#f0f921"
             ]
            ],
            "type": "contour"
           }
          ],
          "contourcarpet": [
           {
            "colorbar": {
             "outlinewidth": 0,
             "ticks": ""
            },
            "type": "contourcarpet"
           }
          ],
          "heatmap": [
           {
            "colorbar": {
             "outlinewidth": 0,
             "ticks": ""
            },
            "colorscale": [
             [
              0,
              "#0d0887"
             ],
             [
              0.1111111111111111,
              "#46039f"
             ],
             [
              0.2222222222222222,
              "#7201a8"
             ],
             [
              0.3333333333333333,
              "#9c179e"
             ],
             [
              0.4444444444444444,
              "#bd3786"
             ],
             [
              0.5555555555555556,
              "#d8576b"
             ],
             [
              0.6666666666666666,
              "#ed7953"
             ],
             [
              0.7777777777777778,
              "#fb9f3a"
             ],
             [
              0.8888888888888888,
              "#fdca26"
             ],
             [
              1,
              "#f0f921"
             ]
            ],
            "type": "heatmap"
           }
          ],
          "heatmapgl": [
           {
            "colorbar": {
             "outlinewidth": 0,
             "ticks": ""
            },
            "colorscale": [
             [
              0,
              "#0d0887"
             ],
             [
              0.1111111111111111,
              "#46039f"
             ],
             [
              0.2222222222222222,
              "#7201a8"
             ],
             [
              0.3333333333333333,
              "#9c179e"
             ],
             [
              0.4444444444444444,
              "#bd3786"
             ],
             [
              0.5555555555555556,
              "#d8576b"
             ],
             [
              0.6666666666666666,
              "#ed7953"
             ],
             [
              0.7777777777777778,
              "#fb9f3a"
             ],
             [
              0.8888888888888888,
              "#fdca26"
             ],
             [
              1,
              "#f0f921"
             ]
            ],
            "type": "heatmapgl"
           }
          ],
          "histogram": [
           {
            "marker": {
             "pattern": {
              "fillmode": "overlay",
              "size": 10,
              "solidity": 0.2
             }
            },
            "type": "histogram"
           }
          ],
          "histogram2d": [
           {
            "colorbar": {
             "outlinewidth": 0,
             "ticks": ""
            },
            "colorscale": [
             [
              0,
              "#0d0887"
             ],
             [
              0.1111111111111111,
              "#46039f"
             ],
             [
              0.2222222222222222,
              "#7201a8"
             ],
             [
              0.3333333333333333,
              "#9c179e"
             ],
             [
              0.4444444444444444,
              "#bd3786"
             ],
             [
              0.5555555555555556,
              "#d8576b"
             ],
             [
              0.6666666666666666,
              "#ed7953"
             ],
             [
              0.7777777777777778,
              "#fb9f3a"
             ],
             [
              0.8888888888888888,
              "#fdca26"
             ],
             [
              1,
              "#f0f921"
             ]
            ],
            "type": "histogram2d"
           }
          ],
          "histogram2dcontour": [
           {
            "colorbar": {
             "outlinewidth": 0,
             "ticks": ""
            },
            "colorscale": [
             [
              0,
              "#0d0887"
             ],
             [
              0.1111111111111111,
              "#46039f"
             ],
             [
              0.2222222222222222,
              "#7201a8"
             ],
             [
              0.3333333333333333,
              "#9c179e"
             ],
             [
              0.4444444444444444,
              "#bd3786"
             ],
             [
              0.5555555555555556,
              "#d8576b"
             ],
             [
              0.6666666666666666,
              "#ed7953"
             ],
             [
              0.7777777777777778,
              "#fb9f3a"
             ],
             [
              0.8888888888888888,
              "#fdca26"
             ],
             [
              1,
              "#f0f921"
             ]
            ],
            "type": "histogram2dcontour"
           }
          ],
          "mesh3d": [
           {
            "colorbar": {
             "outlinewidth": 0,
             "ticks": ""
            },
            "type": "mesh3d"
           }
          ],
          "parcoords": [
           {
            "line": {
             "colorbar": {
              "outlinewidth": 0,
              "ticks": ""
             }
            },
            "type": "parcoords"
           }
          ],
          "pie": [
           {
            "automargin": true,
            "type": "pie"
           }
          ],
          "scatter": [
           {
            "fillpattern": {
             "fillmode": "overlay",
             "size": 10,
             "solidity": 0.2
            },
            "type": "scatter"
           }
          ],
          "scatter3d": [
           {
            "line": {
             "colorbar": {
              "outlinewidth": 0,
              "ticks": ""
             }
            },
            "marker": {
             "colorbar": {
              "outlinewidth": 0,
              "ticks": ""
             }
            },
            "type": "scatter3d"
           }
          ],
          "scattercarpet": [
           {
            "marker": {
             "colorbar": {
              "outlinewidth": 0,
              "ticks": ""
             }
            },
            "type": "scattercarpet"
           }
          ],
          "scattergeo": [
           {
            "marker": {
             "colorbar": {
              "outlinewidth": 0,
              "ticks": ""
             }
            },
            "type": "scattergeo"
           }
          ],
          "scattergl": [
           {
            "marker": {
             "colorbar": {
              "outlinewidth": 0,
              "ticks": ""
             }
            },
            "type": "scattergl"
           }
          ],
          "scattermapbox": [
           {
            "marker": {
             "colorbar": {
              "outlinewidth": 0,
              "ticks": ""
             }
            },
            "type": "scattermapbox"
           }
          ],
          "scatterpolar": [
           {
            "marker": {
             "colorbar": {
              "outlinewidth": 0,
              "ticks": ""
             }
            },
            "type": "scatterpolar"
           }
          ],
          "scatterpolargl": [
           {
            "marker": {
             "colorbar": {
              "outlinewidth": 0,
              "ticks": ""
             }
            },
            "type": "scatterpolargl"
           }
          ],
          "scatterternary": [
           {
            "marker": {
             "colorbar": {
              "outlinewidth": 0,
              "ticks": ""
             }
            },
            "type": "scatterternary"
           }
          ],
          "surface": [
           {
            "colorbar": {
             "outlinewidth": 0,
             "ticks": ""
            },
            "colorscale": [
             [
              0,
              "#0d0887"
             ],
             [
              0.1111111111111111,
              "#46039f"
             ],
             [
              0.2222222222222222,
              "#7201a8"
             ],
             [
              0.3333333333333333,
              "#9c179e"
             ],
             [
              0.4444444444444444,
              "#bd3786"
             ],
             [
              0.5555555555555556,
              "#d8576b"
             ],
             [
              0.6666666666666666,
              "#ed7953"
             ],
             [
              0.7777777777777778,
              "#fb9f3a"
             ],
             [
              0.8888888888888888,
              "#fdca26"
             ],
             [
              1,
              "#f0f921"
             ]
            ],
            "type": "surface"
           }
          ],
          "table": [
           {
            "cells": {
             "fill": {
              "color": "#EBF0F8"
             },
             "line": {
              "color": "white"
             }
            },
            "header": {
             "fill": {
              "color": "#C8D4E3"
             },
             "line": {
              "color": "white"
             }
            },
            "type": "table"
           }
          ]
         },
         "layout": {
          "annotationdefaults": {
           "arrowcolor": "#2a3f5f",
           "arrowhead": 0,
           "arrowwidth": 1
          },
          "autotypenumbers": "strict",
          "coloraxis": {
           "colorbar": {
            "outlinewidth": 0,
            "ticks": ""
           }
          },
          "colorscale": {
           "diverging": [
            [
             0,
             "#8e0152"
            ],
            [
             0.1,
             "#c51b7d"
            ],
            [
             0.2,
             "#de77ae"
            ],
            [
             0.3,
             "#f1b6da"
            ],
            [
             0.4,
             "#fde0ef"
            ],
            [
             0.5,
             "#f7f7f7"
            ],
            [
             0.6,
             "#e6f5d0"
            ],
            [
             0.7,
             "#b8e186"
            ],
            [
             0.8,
             "#7fbc41"
            ],
            [
             0.9,
             "#4d9221"
            ],
            [
             1,
             "#276419"
            ]
           ],
           "sequential": [
            [
             0,
             "#0d0887"
            ],
            [
             0.1111111111111111,
             "#46039f"
            ],
            [
             0.2222222222222222,
             "#7201a8"
            ],
            [
             0.3333333333333333,
             "#9c179e"
            ],
            [
             0.4444444444444444,
             "#bd3786"
            ],
            [
             0.5555555555555556,
             "#d8576b"
            ],
            [
             0.6666666666666666,
             "#ed7953"
            ],
            [
             0.7777777777777778,
             "#fb9f3a"
            ],
            [
             0.8888888888888888,
             "#fdca26"
            ],
            [
             1,
             "#f0f921"
            ]
           ],
           "sequentialminus": [
            [
             0,
             "#0d0887"
            ],
            [
             0.1111111111111111,
             "#46039f"
            ],
            [
             0.2222222222222222,
             "#7201a8"
            ],
            [
             0.3333333333333333,
             "#9c179e"
            ],
            [
             0.4444444444444444,
             "#bd3786"
            ],
            [
             0.5555555555555556,
             "#d8576b"
            ],
            [
             0.6666666666666666,
             "#ed7953"
            ],
            [
             0.7777777777777778,
             "#fb9f3a"
            ],
            [
             0.8888888888888888,
             "#fdca26"
            ],
            [
             1,
             "#f0f921"
            ]
           ]
          },
          "colorway": [
           "#636efa",
           "#EF553B",
           "#00cc96",
           "#ab63fa",
           "#FFA15A",
           "#19d3f3",
           "#FF6692",
           "#B6E880",
           "#FF97FF",
           "#FECB52"
          ],
          "font": {
           "color": "#2a3f5f"
          },
          "geo": {
           "bgcolor": "white",
           "lakecolor": "white",
           "landcolor": "#E5ECF6",
           "showlakes": true,
           "showland": true,
           "subunitcolor": "white"
          },
          "hoverlabel": {
           "align": "left"
          },
          "hovermode": "closest",
          "mapbox": {
           "style": "light"
          },
          "paper_bgcolor": "white",
          "plot_bgcolor": "#E5ECF6",
          "polar": {
           "angularaxis": {
            "gridcolor": "white",
            "linecolor": "white",
            "ticks": ""
           },
           "bgcolor": "#E5ECF6",
           "radialaxis": {
            "gridcolor": "white",
            "linecolor": "white",
            "ticks": ""
           }
          },
          "scene": {
           "xaxis": {
            "backgroundcolor": "#E5ECF6",
            "gridcolor": "white",
            "gridwidth": 2,
            "linecolor": "white",
            "showbackground": true,
            "ticks": "",
            "zerolinecolor": "white"
           },
           "yaxis": {
            "backgroundcolor": "#E5ECF6",
            "gridcolor": "white",
            "gridwidth": 2,
            "linecolor": "white",
            "showbackground": true,
            "ticks": "",
            "zerolinecolor": "white"
           },
           "zaxis": {
            "backgroundcolor": "#E5ECF6",
            "gridcolor": "white",
            "gridwidth": 2,
            "linecolor": "white",
            "showbackground": true,
            "ticks": "",
            "zerolinecolor": "white"
           }
          },
          "shapedefaults": {
           "line": {
            "color": "#2a3f5f"
           }
          },
          "ternary": {
           "aaxis": {
            "gridcolor": "white",
            "linecolor": "white",
            "ticks": ""
           },
           "baxis": {
            "gridcolor": "white",
            "linecolor": "white",
            "ticks": ""
           },
           "bgcolor": "#E5ECF6",
           "caxis": {
            "gridcolor": "white",
            "linecolor": "white",
            "ticks": ""
           }
          },
          "title": {
           "x": 0.05
          },
          "xaxis": {
           "automargin": true,
           "gridcolor": "white",
           "linecolor": "white",
           "ticks": "",
           "title": {
            "standoff": 15
           },
           "zerolinecolor": "white",
           "zerolinewidth": 2
          },
          "yaxis": {
           "automargin": true,
           "gridcolor": "white",
           "linecolor": "white",
           "ticks": "",
           "title": {
            "standoff": 15
           },
           "zerolinecolor": "white",
           "zerolinewidth": 2
          }
         }
        },
        "title": {
         "text": "3D Scatter Plot of PCA Components"
        }
       }
      },
      "image/png": "[encoded data removed]",
      "text/html": [
       "<div>                            <div id=\"5e8af9f4-df1d-4808-9130-d584a3a58d76\" class=\"plotly-graph-div\" style=\"height:525px; width:100%;\"></div>            <script type=\"text/javascript\">                require([\"plotly\"], function(Plotly) {                    window.PLOTLYENV=window.PLOTLYENV || {};                                    if (document.getElementById(\"5e8af9f4-df1d-4808-9130-d584a3a58d76\")) {                    Plotly.newPlot(                        \"5e8af9f4-df1d-4808-9130-d584a3a58d76\",                        [{\"hoverinfo\":\"text+x+y+z\",\"marker\":{\"color\":[0,1,2,1,1,0,2,3,1,0,1,3,1,3,0,2,1,0,0,3,2,1,3,0,1,0,1,3,1,0,3,2,3,1,3,2,1,2,1,0,2,1,3,1,0,0,0,3,1,3,1,2,1,0,3,1,1,3,0,0,1,3,0,1,2,2,1,3,2,0,0,0,1,2,0,2,1,1,0,1,1,3,0,0,3,3,1,0,1,1,0,0,3,1,0,1,1,0,3,0],\"colorbar\":{\"title\":{\"text\":\"Cluster\"}},\"colorscale\":[[0.0,\"rgb(158,1,66)\"],[0.1,\"rgb(213,62,79)\"],[0.2,\"rgb(244,109,67)\"],[0.3,\"rgb(253,174,97)\"],[0.4,\"rgb(254,224,139)\"],[0.5,\"rgb(255,255,191)\"],[0.6,\"rgb(230,245,152)\"],[0.7,\"rgb(171,221,164)\"],[0.8,\"rgb(102,194,165)\"],[0.9,\"rgb(50,136,189)\"],[1.0,\"rgb(94,79,162)\"]],\"size\":8},\"mode\":\"markers\",\"text\":[\"A\",\"B\",\"C\",\"B\",\"B\",\"A\",\"C\",\"D\",\"B\",\"A\",\"B\",\"D\",\"B\",\"D\",\"A\",\"C\",\"B\",\"A\",\"A\",\"D\",\"C\",\"B\",\"D\",\"A\",\"B\",\"A\",\"B\",\"D\",\"B\",\"A\",\"D\",\"C\",\"D\",\"B\",\"D\",\"C\",\"B\",\"C\",\"B\",\"A\",\"C\",\"B\",\"D\",\"B\",\"A\",\"A\",\"A\",\"D\",\"B\",\"D\",\"B\",\"C\",\"B\",\"A\",\"D\",\"B\",\"B\",\"D\",\"A\",\"A\",\"B\",\"D\",\"A\",\"B\",\"C\",\"C\",\"B\",\"D\",\"C\",\"A\",\"A\",\"A\",\"B\",\"C\",\"A\",\"C\",\"B\",\"B\",\"A\",\"B\",\"B\",\"D\",\"A\",\"A\",\"D\",\"D\",\"B\",\"A\",\"B\",\"B\",\"A\",\"A\",\"D\",\"B\",\"A\",\"B\",\"B\",\"A\",\"D\",\"A\"],\"x\":[0.12981110820690234,0.8780299244473658,0.7029309635803944,0.1903357906901768,0.9965158298540807,0.8965653005614979,0.6780266396901833,0.23276151039340742,0.5022339132540113,0.8076842342466197,0.7359230698655118,0.5965916643533067,0.10846500849264062,0.6721979656051379,0.6026916437534646,0.06588351798573677,0.37520894603965327,0.6913449751651758,0.3831989413540938,0.8836367835594867,0.5141589575954124,0.921724377190899,0.41043217028881673,0.4396887383353427,0.5974288042216443,0.9092987436681801,0.30850734514958555,0.1862952606038537,0.9294205458539864,0.5980305350885778,0.8953465928953628,0.431064159894049,0.2913118407679718,0.6235838039122256,0.4577481506538923,0.6446193110943719,0.9006269451701396,0.0751535086757883,0.4354159944994749,0.3326403508092961,0.3781186610559367,0.42435068745039417,0.38282021132366717,0.8050101785774743,0.1489358568161796,0.704830424194331,0.20242048092071696,0.39305066052957816,0.3769867605557987,0.13768014996671085,0.6739461931481319,0.6809432495994348,0.9494882257879924,0.5113712023495633,0.8696802760763989,0.9118560065691331,0.259099213648468,0.9268452725492426,0.8282408033392402,0.5669127450030744,0.19456966374151685,0.3979034090292505,0.8521181716265602,0.17493292853860387,0.849189679631941,0.3665509290662612,0.9756264593682407,0.8047351405545334,0.22806895483917866,0.7941762649021877,0.4107748429234741,0.33828728973185407,0.8818255050010806,0.24799701379027228,0.8100685664937566,0.1708111298633468,0.9901941727457841,0.17697743170119884,0.13511714894173743,0.22937677575717108,0.3262256559255228,0.1440201019252597,0.8342245842994307,0.2184617198479385,0.7415876596633966,0.0002212101539709188,0.8484896899387138,0.3107693691381067,0.40693685139731894,0.1276781340702262,0.3616693031148206,0.06772289030157574,0.5995805479933867,0.7006487001630044,0.5733751110522716,0.9942359353585475,0.24616078496626037,0.4294706780127936,0.09367413533651903,0.7490888215878342],\"y\":[0.88809859840486,0.060627835917198336,0.7049074761962371,0.10235133508877392,0.2504012537078969,0.7467977598378874,0.8233841798496292,0.050439768064543755,0.22505658794800942,0.04846365276735598,0.8054897236847519,0.8862221594787422,0.8413893962733249,0.899621390851491,0.32587544086167985,0.8224041140161422,0.9186955775355079,0.32677281876022823,0.09592514915005712,0.911577384911549,0.47316264285376686,0.03535087538387216,0.13201652209238135,0.1626194918362236,0.9097776079184425,0.8597662178733675,0.47267983512033274,0.4191051541526688,0.3365727294880615,0.6753366742556768,0.31243306134155646,0.9789585224506235,0.928809726239188,0.05737354373278836,0.8026282551198809,0.6864204545063469,0.21311292751955868,0.7443055843248135,0.1433240446716315,0.647019106993263,0.0025330393410200047,0.5193995728498646,0.5318109880851479,0.5427104013157447,0.6110071361007727,0.29401150247653185,0.10108469781494178,0.697998414946059,0.979346603264164,0.2995644315644067,0.13641855130678215,0.563247384468996,0.7549919097202313,0.5283888234147651,0.06625624387682061,0.04597537970976706,0.7107738786607437,0.2663361582209369,0.5200458653186061,0.06631868507070082,0.9498570652461266,0.0006130306540624852,0.052848455350280044,0.8321330245151958,0.9850983242585314,0.3869603620260702,0.9946200237529506,0.8425698971649251,0.8621140440646015,0.18319383814706214,0.8823432759108941,0.5077246703868761,0.7629819302371197,0.5610669569467021,0.03223936770573865,0.3647271954567204,0.4047261611206745,0.1562629555620132,0.03228659709068915,0.1582669952807748,0.5262612735333885,0.870126145918469,0.16341401391338728,0.33162560702600385,0.2602503864409461,0.3815858360812794,0.046442832211821994,0.05044842790288728,0.16461455168827077,0.8842427764126721,0.4441953948662628,0.3266339464573811,0.8401489650704816,0.5527189115166381,0.353198611845675,0.413241104090742,0.46957438953329145,0.8212227953777178,0.5459211715875455,0.46693878563148083],\"z\":[0.3635812856195584,0.5366322703536446,0.10010188001210785,0.9921906505664488,0.17548477893817016,0.6159988729206244,0.940268957612602,0.7397189808950914,0.011794492545304958,0.6877707755810956,0.11005808265750094,0.44851754209023365,0.18000289965763605,0.9686384192750823,0.04156623947345928,0.20332055034811025,0.015952781090473267,0.10962005839462552,0.37410152661865403,0.5928354920659749,0.5669455448172046,0.12803612111429674,0.808624364660657,0.8776427941254829,0.995192741794337,0.005527297387709185,0.4768610363236987,0.0102735687527018,0.1687285347170403,0.9601840407949153,0.8927946982063646,0.44284256479582973,0.7046008818708414,0.27260040426138177,0.7077269662312233,0.8024121527223131,0.3842130071472474,0.9582900904078975,0.4851656618539124,0.9669170952365268,0.5594526626421552,0.40486180058879506,0.8028761738609181,0.41051012436722145,0.14041679364577975,0.3437007518464822,0.5406726505190323,0.189321283634997,0.0037141430587210866,0.06452564742705091,0.4599804067269554,0.1524156538625413,0.5632880397459422,0.913639844232788,0.243388246924645,0.3302065236400351,0.7178539484275754,0.1361350204497872,0.4431647616119926,0.26956872851424796,0.2661667200748278,0.18874043365882676,0.6268520455991109,0.6563539370295639,0.42567654166025026,0.8011377284492962,0.20806511282658613,0.7862756326003004,0.6714756288896954,0.4292548479144922,0.376670610435317,0.262333261786301,0.08976926455951684,0.7004119224293867,0.7685417547790655,0.9877027444982354,0.3151549681545557,0.1101821080710994,0.4931252239113877,0.4802097201671991,0.01628979086923832,0.7971040778689973,0.8222276906454637,0.7185274656734486,0.6405475442257167,0.9340842607997171,0.2974923747239976,0.48749874104709456,0.7464617917485187,0.20671644467669636,0.6675979557953182,0.5507609484213905,0.07306946152962535,0.972581685891567,0.15979533218726538,0.48800489089845056,0.182406302867267,0.2684909378794814,0.539357639272365,0.726059638935692],\"type\":\"scatter3d\"}],                        {\"template\":{\"data\":{\"histogram2dcontour\":[{\"type\":\"histogram2dcontour\",\"colorbar\":{\"outlinewidth\":0,\"ticks\":\"\"},\"colorscale\":[[0.0,\"#0d0887\"],[0.1111111111111111,\"#46039f\"],[0.2222222222222222,\"#7201a8\"],[0.3333333333333333,\"#9c179e\"],[0.4444444444444444,\"#bd3786\"],[0.5555555555555556,\"#d8576b\"],[0.6666666666666666,\"#ed7953\"],[0.7777777777777778,\"#fb9f3a\"],[0.8888888888888888,\"#fdca26\"],[1.0,\"#f0f921\"]]}],\"choropleth\":[{\"type\":\"choropleth\",\"colorbar\":{\"outlinewidth\":0,\"ticks\":\"\"}}],\"histogram2d\":[{\"type\":\"histogram2d\",\"colorbar\":{\"outlinewidth\":0,\"ticks\":\"\"},\"colorscale\":[[0.0,\"#0d0887\"],[0.1111111111111111,\"#46039f\"],[0.2222222222222222,\"#7201a8\"],[0.3333333333333333,\"#9c179e\"],[0.4444444444444444,\"#bd3786\"],[0.5555555555555556,\"#d8576b\"],[0.6666666666666666,\"#ed7953\"],[0.7777777777777778,\"#fb9f3a\"],[0.8888888888888888,\"#fdca26\"],[1.0,\"#f0f921\"]]}],\"heatmap\":[{\"type\":\"heatmap\",\"colorbar\":{\"outlinewidth\":0,\"ticks\":\"\"},\"colorscale\":[[0.0,\"#0d0887\"],[0.1111111111111111,\"#46039f\"],[0.2222222222222222,\"#7201a8\"],[0.3333333333333333,\"#9c179e\"],[0.4444444444444444,\"#bd3786\"],[0.5555555555555556,\"#d8576b\"],[0.6666666666666666,\"#ed7953\"],[0.7777777777777778,\"#fb9f3a\"],[0.8888888888888888,\"#fdca26\"],[1.0,\"#f0f921\"]]}],\"heatmapgl\":[{\"type\":\"heatmapgl\",\"colorbar\":{\"outlinewidth\":0,\"ticks\":\"\"},\"colorscale\":[[0.0,\"#0d0887\"],[0.1111111111111111,\"#46039f\"],[0.2222222222222222,\"#7201a8\"],[0.3333333333333333,\"#9c179e\"],[0.4444444444444444,\"#bd3786\"],[0.5555555555555556,\"#d8576b\"],[0.6666666666666666,\"#ed7953\"],[0.7777777777777778,\"#fb9f3a\"],[0.8888888888888888,\"#fdca26\"],[1.0,\"#f0f921\"]]}],\"contourcarpet\":[{\"type\":\"contourcarpet\",\"colorbar\":{\"outlinewidth\":0,\"ticks\":\"\"}}],\"contour\":[{\"type\":\"contour\",\"colorbar\":{\"outlinewidth\":0,\"ticks\":\"\"},\"colorscale\":[[0.0,\"#0d0887\"],[0.1111111111111111,\"#46039f\"],[0.2222222222222222,\"#7201a8\"],[0.3333333333333333,\"#9c179e\"],[0.4444444444444444,\"#bd3786\"],[0.5555555555555556,\"#d8576b\"],[0.6666666666666666,\"#ed7953\"],[0.7777777777777778,\"#fb9f3a\"],[0.8888888888888888,\"#fdca26\"],[1.0,\"#f0f921\"]]}],\"surface\":[{\"type\":\"surface\",\"colorbar\":{\"outlinewidth\":0,\"ticks\":\"\"},\"colorscale\":[[0.0,\"#0d0887\"],[0.1111111111111111,\"#46039f\"],[0.2222222222222222,\"#7201a8\"],[0.3333333333333333,\"#9c179e\"],[0.4444444444444444,\"#bd3786\"],[0.5555555555555556,\"#d8576b\"],[0.6666666666666666,\"#ed7953\"],[0.7777777777777778,\"#fb9f3a\"],[0.8888888888888888,\"#fdca26\"],[1.0,\"#f0f921\"]]}],\"mesh3d\":[{\"type\":\"mesh3d\",\"colorbar\":{\"outlinewidth\":0,\"ticks\":\"\"}}],\"scatter\":[{\"fillpattern\":{\"fillmode\":\"overlay\",\"size\":10,\"solidity\":0.2},\"type\":\"scatter\"}],\"parcoords\":[{\"type\":\"parcoords\",\"line\":{\"colorbar\":{\"outlinewidth\":0,\"ticks\":\"\"}}}],\"scatterpolargl\":[{\"type\":\"scatterpolargl\",\"marker\":{\"colorbar\":{\"outlinewidth\":0,\"ticks\":\"\"}}}],\"bar\":[{\"error_x\":{\"color\":\"#2a3f5f\"},\"error_y\":{\"color\":\"#2a3f5f\"},\"marker\":{\"line\":{\"color\":\"#E5ECF6\",\"width\":0.5},\"pattern\":{\"fillmode\":\"overlay\",\"size\":10,\"solidity\":0.2}},\"type\":\"bar\"}],\"scattergeo\":[{\"type\":\"scattergeo\",\"marker\":{\"colorbar\":{\"outlinewidth\":0,\"ticks\":\"\"}}}],\"scatterpolar\":[{\"type\":\"scatterpolar\",\"marker\":{\"colorbar\":{\"outlinewidth\":0,\"ticks\":\"\"}}}],\"histogram\":[{\"marker\":{\"pattern\":{\"fillmode\":\"overlay\",\"size\":10,\"solidity\":0.2}},\"type\":\"histogram\"}],\"scattergl\":[{\"type\":\"scattergl\",\"marker\":{\"colorbar\":{\"outlinewidth\":0,\"ticks\":\"\"}}}],\"scatter3d\":[{\"type\":\"scatter3d\",\"line\":{\"colorbar\":{\"outlinewidth\":0,\"ticks\":\"\"}},\"marker\":{\"colorbar\":{\"outlinewidth\":0,\"ticks\":\"\"}}}],\"scattermapbox\":[{\"type\":\"scattermapbox\",\"marker\":{\"colorbar\":{\"outlinewidth\":0,\"ticks\":\"\"}}}],\"scatterternary\":[{\"type\":\"scatterternary\",\"marker\":{\"colorbar\":{\"outlinewidth\":0,\"ticks\":\"\"}}}],\"scattercarpet\":[{\"type\":\"scattercarpet\",\"marker\":{\"colorbar\":{\"outlinewidth\":0,\"ticks\":\"\"}}}],\"carpet\":[{\"aaxis\":{\"endlinecolor\":\"#2a3f5f\",\"gridcolor\":\"white\",\"linecolor\":\"white\",\"minorgridcolor\":\"white\",\"startlinecolor\":\"#2a3f5f\"},\"baxis\":{\"endlinecolor\":\"#2a3f5f\",\"gridcolor\":\"white\",\"linecolor\":\"white\",\"minorgridcolor\":\"white\",\"startlinecolor\":\"#2a3f5f\"},\"type\":\"carpet\"}],\"table\":[{\"cells\":{\"fill\":{\"color\":\"#EBF0F8\"},\"line\":{\"color\":\"white\"}},\"header\":{\"fill\":{\"color\":\"#C8D4E3\"},\"line\":{\"color\":\"white\"}},\"type\":\"table\"}],\"barpolar\":[{\"marker\":{\"line\":{\"color\":\"#E5ECF6\",\"width\":0.5},\"pattern\":{\"fillmode\":\"overlay\",\"size\":10,\"solidity\":0.2}},\"type\":\"barpolar\"}],\"pie\":[{\"automargin\":true,\"type\":\"pie\"}]},\"layout\":{\"autotypenumbers\":\"strict\",\"colorway\":[\"#636efa\",\"#EF553B\",\"#00cc96\",\"#ab63fa\",\"#FFA15A\",\"#19d3f3\",\"#FF6692\",\"#B6E880\",\"#FF97FF\",\"#FECB52\"],\"font\":{\"color\":\"#2a3f5f\"},\"hovermode\":\"closest\",\"hoverlabel\":{\"align\":\"left\"},\"paper_bgcolor\":\"white\",\"plot_bgcolor\":\"#E5ECF6\",\"polar\":{\"bgcolor\":\"#E5ECF6\",\"angularaxis\":{\"gridcolor\":\"white\",\"linecolor\":\"white\",\"ticks\":\"\"},\"radialaxis\":{\"gridcolor\":\"white\",\"linecolor\":\"white\",\"ticks\":\"\"}},\"ternary\":{\"bgcolor\":\"#E5ECF6\",\"aaxis\":{\"gridcolor\":\"white\",\"linecolor\":\"white\",\"ticks\":\"\"},\"baxis\":{\"gridcolor\":\"white\",\"linecolor\":\"white\",\"ticks\":\"\"},\"caxis\":{\"gridcolor\":\"white\",\"linecolor\":\"white\",\"ticks\":\"\"}},\"coloraxis\":{\"colorbar\":{\"outlinewidth\":0,\"ticks\":\"\"}},\"colorscale\":{\"sequential\":[[0.0,\"#0d0887\"],[0.1111111111111111,\"#46039f\"],[0.2222222222222222,\"#7201a8\"],[0.3333333333333333,\"#9c179e\"],[0.4444444444444444,\"#bd3786\"],[0.5555555555555556,\"#d8576b\"],[0.6666666666666666,\"#ed7953\"],[0.7777777777777778,\"#fb9f3a\"],[0.8888888888888888,\"#fdca26\"],[1.0,\"#f0f921\"]],\"sequentialminus\":[[0.0,\"#0d0887\"],[0.1111111111111111,\"#46039f\"],[0.2222222222222222,\"#7201a8\"],[0.3333333333333333,\"#9c179e\"],[0.4444444444444444,\"#bd3786\"],[0.5555555555555556,\"#d8576b\"],[0.6666666666666666,\"#ed7953\"],[0.7777777777777778,\"#fb9f3a\"],[0.8888888888888888,\"#fdca26\"],[1.0,\"#f0f921\"]],\"diverging\":[[0,\"#8e0152\"],[0.1,\"#c51b7d\"],[0.2,\"#de77ae\"],[0.3,\"#f1b6da\"],[0.4,\"#fde0ef\"],[0.5,\"#f7f7f7\"],[0.6,\"#e6f5d0\"],[0.7,\"#b8e186\"],[0.8,\"#7fbc41\"],[0.9,\"#4d9221\"],[1,\"#276419\"]]},\"xaxis\":{\"gridcolor\":\"white\",\"linecolor\":\"white\",\"ticks\":\"\",\"title\":{\"standoff\":15},\"zerolinecolor\":\"white\",\"automargin\":true,\"zerolinewidth\":2},\"yaxis\":{\"gridcolor\":\"white\",\"linecolor\":\"white\",\"ticks\":\"\",\"title\":{\"standoff\":15},\"zerolinecolor\":\"white\",\"automargin\":true,\"zerolinewidth\":2},\"scene\":{\"xaxis\":{\"backgroundcolor\":\"#E5ECF6\",\"gridcolor\":\"white\",\"linecolor\":\"white\",\"showbackground\":true,\"ticks\":\"\",\"zerolinecolor\":\"white\",\"gridwidth\":2},\"yaxis\":{\"backgroundcolor\":\"#E5ECF6\",\"gridcolor\":\"white\",\"linecolor\":\"white\",\"showbackground\":true,\"ticks\":\"\",\"zerolinecolor\":\"white\",\"gridwidth\":2},\"zaxis\":{\"backgroundcolor\":\"#E5ECF6\",\"gridcolor\":\"white\",\"linecolor\":\"white\",\"showbackground\":true,\"ticks\":\"\",\"zerolinecolor\":\"white\",\"gridwidth\":2}},\"shapedefaults\":{\"line\":{\"color\":\"#2a3f5f\"}},\"annotationdefaults\":{\"arrowcolor\":\"#2a3f5f\",\"arrowhead\":0,\"arrowwidth\":1},\"geo\":{\"bgcolor\":\"white\",\"landcolor\":\"#E5ECF6\",\"subunitcolor\":\"white\",\"showland\":true,\"showlakes\":true,\"lakecolor\":\"white\"},\"title\":{\"x\":0.05},\"mapbox\":{\"style\":\"light\"}}},\"title\":{\"text\":\"3D Scatter Plot of PCA Components\"},\"scene\":{\"xaxis\":{\"title\":{\"text\":\"PC 1\"}},\"yaxis\":{\"title\":{\"text\":\"PC 2\"}},\"zaxis\":{\"title\":{\"text\":\"PC 3\"}}},\"legend\":{\"title\":{\"text\":\"Cluster\"}},\"annotations\":[{\"arrowhead\":2,\"ax\":20,\"ay\":-30,\"showarrow\":true,\"text\":\"First Data Point\",\"x\":0.12981110820690234,\"y\":0.88809859840486}]},                        {\"responsive\": true}                    ).then(function(){\n",
       "                            \n",
       "var gd = document.getElementById('5e8af9f4-df1d-4808-9130-d584a3a58d76');\n",
       "var x = new MutationObserver(function (mutations, observer) {{\n",
       "        var display = window.getComputedStyle(gd).display;\n",
       "        if (!display || display === 'none') {{\n",
       "            console.log([gd, 'removed!']);\n",
       "            Plotly.purge(gd);\n",
       "            observer.disconnect();\n",
       "        }}\n",
       "}});\n",
       "\n",
       "// Listen for the removal of the full notebook cells\n",
       "var notebookContainer = gd.closest('#notebook-container');\n",
       "if (notebookContainer) {{\n",
       "    x.observe(notebookContainer, {childList: true});\n",
       "}}\n",
       "\n",
       "// Listen for the clearing of the current output cell\n",
       "var outputEl = gd.closest('.output');\n",
       "if (outputEl) {{\n",
       "    x.observe(outputEl, {childList: true});\n",
       "}}\n",
       "\n",
       "                        })                };                });            </script>        </div>"
      ]
     },
     "metadata": {},
     "output_type": "display_data"
    }
   ],
   "source": [
    "import plotly.graph_objects as go\n",
    "import numpy as np\n",
    "import pandas as pd\n",
    "\n",
    "# Example DataFrame with PCA data and clusters\n",
    "pca_df = np.random.rand(100, 3)  # Replace with your PCA data\n",
    "df = pd.DataFrame({\n",
    "    'cluster': np.random.choice(['A', 'B', 'C', 'D'], size=100)  # Example clusters\n",
    "})\n",
    "\n",
    "# Convert categorical cluster labels to numeric values\n",
    "df['cluster_numeric'] = df['cluster'].astype('category').cat.codes\n",
    "\n",
    "# Combine PCA data and cluster data\n",
    "pca_df = pd.DataFrame(pca_df, columns=['x', 'y', 'z'])\n",
    "pca_df['cluster'] = df['cluster']\n",
    "pca_df['cluster_numeric'] = df['cluster_numeric']\n",
    "\n",
    "# Create the 3D scatter plot\n",
    "fig = go.Figure()\n",
    "\n",
    "# Add scatter plot\n",
    "fig.add_trace(go.Scatter3d(\n",
    "    x=pca_df['x'],\n",
    "    y=pca_df['y'],\n",
    "    z=pca_df['z'],\n",
    "    mode='markers',\n",
    "    marker=dict(\n",
    "        size=8,\n",
    "        color=pca_df['cluster_numeric'],  # Numeric color values\n",
    "        colorscale='Spectral',  # Color scale\n",
    "        colorbar=dict(title='Cluster')  # Colorbar title\n",
    "    ),\n",
    "    text=pca_df['cluster'],  # Hover text\n",
    "    hoverinfo='text+x+y+z'  # Display x, y, z values on hover\n",
    "))\n",
    "\n",
    "# Add title and axis labels\n",
    "fig.update_layout(\n",
    "    title='3D Scatter Plot of PCA Components',\n",
    "    scene=dict(\n",
    "        xaxis_title='PC 1',\n",
    "        yaxis_title='PC 2',\n",
    "        zaxis_title='PC 3'\n",
    "    ),\n",
    "    legend_title='Cluster'\n",
    ")\n",
    "\n",
    "# Add annotations (example: annotating the first point)\n",
    "fig.add_annotation(\n",
    "    dict(\n",
    "        x=pca_df['x'].iloc[0],\n",
    "        y=pca_df['y'].iloc[0],\n",
    "       # z=pca_df['z'].iloc[0],\n",
    "        text='First Data Point',\n",
    "        showarrow=True,\n",
    "        arrowhead=2,\n",
    "        ax=20,\n",
    "        ay=-30\n",
    "    )\n",
    ")\n",
    "\n",
    "fig.show()\n"
   ]
  },
  {
   "cell_type": "code",
   "execution_count": 16,
   "id": "fe3ff610-0853-446f-8cf4-0b1073c1adf9",
   "metadata": {},
   "outputs": [
    {
     "data": {
      "text/plain": [
       "cluster\n",
       "3    196\n",
       "2    190\n",
       "0    123\n",
       "1    101\n",
       "4     50\n",
       "Name: count, dtype: int64"
      ]
     },
     "execution_count": 16,
     "metadata": {},
     "output_type": "execute_result"
    }
   ],
   "source": [
    "# size of each cluster\n",
    "\n",
    "df[\"cluster\"].value_counts()"
   ]
  },
  {
   "cell_type": "code",
   "execution_count": 43,
   "id": "8be5578a-6054-4b77-8de1-330959803e6b",
   "metadata": {},
   "outputs": [
    {
     "data": {
      "image/png": "[encoded data removed]",
      "text/plain": [
       "<Figure size 1310.75x1250 with 30 Axes>"
      ]
     },
     "metadata": {},
     "output_type": "display_data"
    }
   ],
   "source": [
    "import pandas as pd\n",
    "import seaborn as sns\n",
    "import matplotlib.pyplot as plt\n",
    "\n",
    "# Sample DataFrame\n",
    "df = pd.DataFrame({\n",
    "    'Avg_Credit_Limit': [5, 15, 20, 10],\n",
    "    'Total_Credit_Cards': [2, 3, 4, 5],\n",
    "    'Total_visits_bank': [0,0,1,2],\n",
    "    'Total_calls_made': [2,5,8,20],\n",
    "    'Total_visits_online': [2,5,8,20], \n",
    "    'cluster': ['A', 'B', 'C', 'D']\n",
    "})\n",
    "\n",
    "# Ensure the DataFrame includes the 'cluster' column\n",
    "df_subset = df[[\"Avg_Credit_Limit\", \"Total_Credit_Cards\",\"Total_visits_bank\",\"Total_visits_online\", \"Total_calls_made\", \"cluster\"]]\n",
    "\n",
    "# Create PairGrid\n",
    "g = sns.PairGrid(df_subset, hue=\"cluster\", palette='Spectral')\n",
    "g.map_diag(sns.histplot)\n",
    "g.map_offdiag(sns.scatterplot)\n",
    "g.add_legend()\n",
    "plt.show()\n"
   ]
  },
  {
   "cell_type": "code",
   "execution_count": 27,
   "id": "7dc330db-7747-45b3-a498-5ae93314ad69",
   "metadata": {},
   "outputs": [
    {
     "name": "stdout",
     "output_type": "stream",
     "text": [
      "Customer Key              int64\n",
      "Avg_Credit_Limit          int64\n",
      "Total_Credit_Cards        int64\n",
      "Total_visits_bank      category\n",
      "Total_visits_online       int64\n",
      "Total_calls_made          int64\n",
      "cluster                category\n",
      "dtype: object\n",
      "Total_visits_bank    0\n",
      "cluster              0\n",
      "dtype: int64\n"
     ]
    },
    {
     "data": {
      "image/png": "[encoded data removed]",
      "text/plain": [
       "<Figure size 640x480 with 1 Axes>"
      ]
     },
     "metadata": {},
     "output_type": "display_data"
    }
   ],
   "source": [
    "print(df.dtypes)\n",
    "df['Total_visits_bank'] = df['Total_visits_bank'].astype(str)\n",
    "df['cluster'] = df['cluster'].astype(str)\n",
    "print(df[['Total_visits_bank', 'cluster']].isnull().sum())\n",
    "\n",
    "# If there are missing values, you might need to handle them\n",
    "df = df.dropna(subset=['Total_visits_bank', 'cluster'])\n",
    "import seaborn as sns\n",
    "import matplotlib.pyplot as plt\n",
    "\n",
    "ax = sns.countplot(data=df, x='Total_visits_bank', hue='cluster', palette='Spectral')\n",
    "plt.show()\n"
   ]
  },
  {
   "cell_type": "code",
   "execution_count": 29,
   "id": "1d7e71db-c71f-4aab-88c3-7259bd8edd90",
   "metadata": {},
   "outputs": [
    {
     "data": {
      "image/png": "[encoded data removed]",
      "text/plain": [
       "<Figure size 640x480 with 1 Axes>"
      ]
     },
     "metadata": {},
     "output_type": "display_data"
    }
   ],
   "source": [
    "import pandas as pd\n",
    "import seaborn as sns\n",
    "import matplotlib.pyplot as plt\n",
    "\n",
    "# Example DataFrame\n",
    "df = pd.DataFrame({\n",
    "    'Avg_Credit_Limit': [1000, 2000, 1500, 3000, 2500],\n",
    "    'cluster': [1, 2, 1, 2, 1]\n",
    "})\n",
    "\n",
    "# Convert columns to string if necessary\n",
    "df['Avg_Credit_Limit'] = df['Avg_Credit_Limit'].astype(str)\n",
    "df['cluster'] = df['cluster'].astype(str)\n",
    "\n",
    "# Drop rows with missing values if any\n",
    "df = df.dropna(subset=['Avg_Credit_Limit', 'cluster'])\n",
    "\n",
    "# Plot\n",
    "ax = sns.countplot(data=df, x='Avg_Credit_Limit', hue='cluster', palette='Spectral')\n",
    "plt.show()\n"
   ]
  },
  {
   "cell_type": "code",
   "execution_count": 30,
   "id": "a8999f5d-8add-477f-8dd7-e25c4fe2b453",
   "metadata": {},
   "outputs": [
    {
     "data": {
      "text/html": [
       "<div>\n",
       "<style scoped>\n",
       "    .dataframe tbody tr th:only-of-type {\n",
       "        vertical-align: middle;\n",
       "    }\n",
       "\n",
       "    .dataframe tbody tr th {\n",
       "        vertical-align: top;\n",
       "    }\n",
       "\n",
       "    .dataframe thead th {\n",
       "        text-align: right;\n",
       "    }\n",
       "</style>\n",
       "<table border=\"1\" class=\"dataframe\">\n",
       "  <thead>\n",
       "    <tr style=\"text-align: right;\">\n",
       "      <th></th>\n",
       "      <th>Avg_Credit_Limit</th>\n",
       "      <th>cluster</th>\n",
       "    </tr>\n",
       "  </thead>\n",
       "  <tbody>\n",
       "    <tr>\n",
       "      <th>count</th>\n",
       "      <td>0</td>\n",
       "      <td>0</td>\n",
       "    </tr>\n",
       "    <tr>\n",
       "      <th>unique</th>\n",
       "      <td>0</td>\n",
       "      <td>0</td>\n",
       "    </tr>\n",
       "    <tr>\n",
       "      <th>top</th>\n",
       "      <td>NaN</td>\n",
       "      <td>NaN</td>\n",
       "    </tr>\n",
       "    <tr>\n",
       "      <th>freq</th>\n",
       "      <td>NaN</td>\n",
       "      <td>NaN</td>\n",
       "    </tr>\n",
       "  </tbody>\n",
       "</table>\n",
       "</div>"
      ],
      "text/plain": [
       "       Avg_Credit_Limit cluster\n",
       "count                 0       0\n",
       "unique                0       0\n",
       "top                 NaN     NaN\n",
       "freq                NaN     NaN"
      ]
     },
     "execution_count": 30,
     "metadata": {},
     "output_type": "execute_result"
    }
   ],
   "source": [
    "df[df[\"cluster\"] == 2].describe()"
   ]
  },
  {
   "cell_type": "code",
   "execution_count": null,
   "id": "0850c229-2fc6-4e31-8bff-f1c62fec879a",
   "metadata": {},
   "outputs": [],
   "source": []
  }
 ],
 "metadata": {
  "kernelspec": {
   "display_name": "Python 3 (ipykernel)",
   "language": "python",
   "name": "python3"
  },
  "language_info": {
   "codemirror_mode": {
    "name": "ipython",
    "version": 3
   },
   "file_extension": ".py",
   "mimetype": "text/x-python",
   "name": "python",
   "nbconvert_exporter": "python",
   "pygments_lexer": "ipython3",
   "version": "3.11.7"
  }
 },
 "nbformat": 4,
 "nbformat_minor": 5
}
